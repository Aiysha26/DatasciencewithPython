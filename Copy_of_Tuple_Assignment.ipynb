{
  "nbformat": 4,
  "nbformat_minor": 0,
  "metadata": {
    "kernelspec": {
      "display_name": "Python 3",
      "language": "python",
      "name": "python3"
    },
    "language_info": {
      "codemirror_mode": {
        "name": "ipython",
        "version": 3
      },
      "file_extension": ".py",
      "mimetype": "text/x-python",
      "name": "python",
      "nbconvert_exporter": "python",
      "pygments_lexer": "ipython3",
      "version": "3.8.3"
    },
    "colab": {
      "name": "Copy of Tuple - Assignment.ipynb",
      "provenance": []
    }
  },
  "cells": [
    {
      "cell_type": "code",
      "metadata": {
        "id": "Klh0Vj0UMoxr"
      },
      "source": [
        "my_tup = (5,8,4,'simpli','learn',True)"
      ],
      "execution_count": null,
      "outputs": []
    },
    {
      "cell_type": "code",
      "metadata": {
        "id": "wbHBCkKVMrso",
        "outputId": "182812dd-b741-4006-d08d-1656b5f00705",
        "colab": {
          "base_uri": "https://localhost:8080/"
        }
      },
      "source": [
        "my_tup[1]"
      ],
      "execution_count": null,
      "outputs": [
        {
          "output_type": "execute_result",
          "data": {
            "text/plain": [
              "8"
            ]
          },
          "metadata": {
            "tags": []
          },
          "execution_count": 4
        }
      ]
    },
    {
      "cell_type": "markdown",
      "metadata": {
        "id": "alG55WfPMox8"
      },
      "source": [
        "1. Extract \"8\" in `my_tup` "
      ]
    },
    {
      "cell_type": "code",
      "metadata": {
        "id": "TaXwVVSSMoyA",
        "outputId": "6f736deb-3eef-4f87-e3fa-d8d16c096df3",
        "colab": {
          "base_uri": "https://localhost:8080/"
        }
      },
      "source": [
        "\n",
        "my_tup[1]"
      ],
      "execution_count": null,
      "outputs": [
        {
          "output_type": "execute_result",
          "data": {
            "text/plain": [
              "8"
            ]
          },
          "metadata": {
            "tags": []
          },
          "execution_count": 6
        }
      ]
    },
    {
      "cell_type": "markdown",
      "metadata": {
        "id": "T_T3w8JPMoyV"
      },
      "source": [
        "2. Extract \"4\" in `my_tup`"
      ]
    },
    {
      "cell_type": "code",
      "metadata": {
        "id": "Dyp16GbZMoyY",
        "outputId": "c9210cac-6672-45dc-f795-f1abb9c41fde",
        "colab": {
          "base_uri": "https://localhost:8080/",
          "height": 35
        }
      },
      "source": [
        "my_tup[4]"
      ],
      "execution_count": null,
      "outputs": [
        {
          "output_type": "execute_result",
          "data": {
            "application/vnd.google.colaboratory.intrinsic+json": {
              "type": "string"
            },
            "text/plain": [
              "'learn'"
            ]
          },
          "metadata": {
            "tags": []
          },
          "execution_count": 5
        }
      ]
    },
    {
      "cell_type": "markdown",
      "metadata": {
        "id": "f0dtUiB9Moyo"
      },
      "source": [
        "3. Extract 1st three values in `my_tup`"
      ]
    },
    {
      "cell_type": "code",
      "metadata": {
        "id": "4xc9fbMdMoyr",
        "outputId": "cdea231c-cedc-4419-aaf9-4295afe99243",
        "colab": {
          "base_uri": "https://localhost:8080/"
        }
      },
      "source": [
        "# code here\n",
        "my_tup[0:3]"
      ],
      "execution_count": null,
      "outputs": [
        {
          "output_type": "execute_result",
          "data": {
            "text/plain": [
              "(5, 8, 4)"
            ]
          },
          "metadata": {
            "tags": []
          },
          "execution_count": 9
        }
      ]
    },
    {
      "cell_type": "markdown",
      "metadata": {
        "id": "sKRtn5doMoy4"
      },
      "source": [
        "4. Extract last three values in `my_tup`"
      ]
    },
    {
      "cell_type": "code",
      "metadata": {
        "id": "6Wh3H8ouMoy6",
        "outputId": "9161748e-9fbe-4a6a-89a7-ea7116acb0b7",
        "colab": {
          "base_uri": "https://localhost:8080/"
        }
      },
      "source": [
        "# code here\n",
        "my_tup[-3:6]"
      ],
      "execution_count": null,
      "outputs": [
        {
          "output_type": "execute_result",
          "data": {
            "text/plain": [
              "('simpli', 'learn', True)"
            ]
          },
          "metadata": {
            "tags": []
          },
          "execution_count": 12
        }
      ]
    },
    {
      "cell_type": "markdown",
      "metadata": {
        "id": "tJh7AEzTMozF"
      },
      "source": [
        "5. Extract alternate values starting with `5`"
      ]
    },
    {
      "cell_type": "code",
      "metadata": {
        "id": "3LUhGg7FOsXN",
        "outputId": "5e9cbf0a-ceb9-488b-82ed-c69aedfcbeec",
        "colab": {
          "base_uri": "https://localhost:8080/"
        }
      },
      "source": [
        "my_tup[::2]"
      ],
      "execution_count": null,
      "outputs": [
        {
          "output_type": "execute_result",
          "data": {
            "text/plain": [
              "(5, 4, 'learn')"
            ]
          },
          "metadata": {
            "tags": []
          },
          "execution_count": 14
        }
      ]
    },
    {
      "cell_type": "code",
      "metadata": {
        "id": "cK-v_xiFMozH",
        "outputId": "fcea192a-94af-4df0-aece-d0c34ad2bf2b"
      },
      "source": [
        "my_tup[::2]"
      ],
      "execution_count": null,
      "outputs": [
        {
          "output_type": "execute_result",
          "data": {
            "text/plain": [
              "(5, 4, 'learn')"
            ]
          },
          "metadata": {
            "tags": []
          },
          "execution_count": 7
        }
      ]
    },
    {
      "cell_type": "code",
      "metadata": {
        "id": "fyUg8qK0OqDX"
      },
      "source": [
        ""
      ],
      "execution_count": null,
      "outputs": []
    },
    {
      "cell_type": "markdown",
      "metadata": {
        "id": "FH5WIMszMozW"
      },
      "source": [
        "6. Print the data type of 2nd element in `my_tup`"
      ]
    },
    {
      "cell_type": "code",
      "metadata": {
        "id": "WbrrOoYYMozY"
      },
      "source": [
        "# code here\n",
        "a=5\n",
        "b=8\n",
        "c=4\n",
        "d=('simpli')\n",
        "e=(\"learn\")\n",
        "f=(\"true\")\n"
      ],
      "execution_count": null,
      "outputs": []
    },
    {
      "cell_type": "code",
      "metadata": {
        "id": "S5ZAZQc3RX9k",
        "outputId": "afb229e7-fd96-4b0c-a382-b5c809d9a5b0",
        "colab": {
          "base_uri": "https://localhost:8080/"
        }
      },
      "source": [
        "who"
      ],
      "execution_count": null,
      "outputs": [
        {
          "output_type": "stream",
          "text": [
            "a\t b\t c\t d\t e\t f\t my_tup\t \n"
          ],
          "name": "stdout"
        }
      ]
    },
    {
      "cell_type": "code",
      "metadata": {
        "id": "qJi3K48RRhkC",
        "outputId": "331a2720-f7f3-47e0-ef7c-b4312fe79238",
        "colab": {
          "base_uri": "https://localhost:8080/"
        }
      },
      "source": [
        "type(b)"
      ],
      "execution_count": null,
      "outputs": [
        {
          "output_type": "execute_result",
          "data": {
            "text/plain": [
              "int"
            ]
          },
          "metadata": {
            "tags": []
          },
          "execution_count": 17
        }
      ]
    },
    {
      "cell_type": "markdown",
      "metadata": {
        "id": "7F-NMSNvMozg"
      },
      "source": [
        "7. Print the data type of last elment in `my_tup`"
      ]
    },
    {
      "cell_type": "code",
      "metadata": {
        "id": "oHcgpuPzMozi",
        "outputId": "aa19786b-151c-4ca6-c97a-ed2255d62923",
        "colab": {
          "base_uri": "https://localhost:8080/"
        }
      },
      "source": [
        "# code here\n",
        "type(f)"
      ],
      "execution_count": null,
      "outputs": [
        {
          "output_type": "execute_result",
          "data": {
            "text/plain": [
              "str"
            ]
          },
          "metadata": {
            "tags": []
          },
          "execution_count": 18
        }
      ]
    },
    {
      "cell_type": "markdown",
      "metadata": {
        "id": "9PkEPEIbMozq"
      },
      "source": [
        "8. Add 4th and 5th element in `my_tup`"
      ]
    },
    {
      "cell_type": "code",
      "metadata": {
        "id": "G7GzCdsOMozr",
        "outputId": "e6565997-0e87-4288-f995-0ee496cba55c",
        "colab": {
          "base_uri": "https://localhost:8080/",
          "height": 35
        }
      },
      "source": [
        "# code here\n",
        "e+f"
      ],
      "execution_count": null,
      "outputs": [
        {
          "output_type": "execute_result",
          "data": {
            "application/vnd.google.colaboratory.intrinsic+json": {
              "type": "string"
            },
            "text/plain": [
              "'learntrue'"
            ]
          },
          "metadata": {
            "tags": []
          },
          "execution_count": 19
        }
      ]
    },
    {
      "cell_type": "markdown",
      "metadata": {
        "id": "0s1sYNM_Moz2"
      },
      "source": [
        "9. Multiply the output of 8 question with 1st element"
      ]
    },
    {
      "cell_type": "code",
      "metadata": {
        "id": "sCRkos19Moz4",
        "outputId": "5804ff71-7360-4b74-d69b-c52f503fa09d",
        "colab": {
          "base_uri": "https://localhost:8080/"
        }
      },
      "source": [
        "# code here\n",
        "b*a"
      ],
      "execution_count": null,
      "outputs": [
        {
          "output_type": "execute_result",
          "data": {
            "text/plain": [
              "40"
            ]
          },
          "metadata": {
            "tags": []
          },
          "execution_count": 23
        }
      ]
    },
    {
      "cell_type": "markdown",
      "metadata": {
        "id": "JvERStdNMo0B"
      },
      "source": [
        "10. Print all the values in `my_tup` in reverse order"
      ]
    },
    {
      "cell_type": "code",
      "metadata": {
        "id": "OQh4wJx7Mo0D",
        "outputId": "096c2bbc-8dc1-48b0-d558-e5b0b86f058f",
        "colab": {
          "base_uri": "https://localhost:8080/"
        }
      },
      "source": [
        "# code here\n",
        "my_tup[::-1]"
      ],
      "execution_count": null,
      "outputs": [
        {
          "output_type": "execute_result",
          "data": {
            "text/plain": [
              "(True, 'learn', 'simpli', 4, 8, 5)"
            ]
          },
          "metadata": {
            "tags": []
          },
          "execution_count": 24
        }
      ]
    },
    {
      "cell_type": "markdown",
      "metadata": {
        "id": "ypssqUYvMo0M"
      },
      "source": [
        "---\n",
        "srikanth dakoju"
      ]
    }
  ]
}