{
 "cells": [
  {
   "cell_type": "code",
   "execution_count": 2,
   "metadata": {
    "id": "Klh0Vj0UMoxr"
   },
   "outputs": [],
   "source": [
    "my_tup = (5,8,4,'simpli','learn',True)"
   ]
  },
  {
   "cell_type": "code",
   "execution_count": 3,
   "metadata": {
    "colab": {
     "base_uri": "https://localhost:8080/"
    },
    "id": "wbHBCkKVMrso",
    "outputId": "182812dd-b741-4006-d08d-1656b5f00705"
   },
   "outputs": [
    {
     "data": {
      "text/plain": [
       "8"
      ]
     },
     "execution_count": 3,
     "metadata": {},
     "output_type": "execute_result"
    }
   ],
   "source": [
    "my_tup[1]"
   ]
  },
  {
   "cell_type": "markdown",
   "metadata": {
    "id": "alG55WfPMox8"
   },
   "source": [
    "1. Extract \"8\" in `my_tup` "
   ]
  },
  {
   "cell_type": "code",
   "execution_count": 4,
   "metadata": {
    "colab": {
     "base_uri": "https://localhost:8080/"
    },
    "id": "TaXwVVSSMoyA",
    "outputId": "6f736deb-3eef-4f87-e3fa-d8d16c096df3"
   },
   "outputs": [
    {
     "data": {
      "text/plain": [
       "8"
      ]
     },
     "execution_count": 4,
     "metadata": {},
     "output_type": "execute_result"
    }
   ],
   "source": [
    "\n",
    "my_tup[1]"
   ]
  },
  {
   "cell_type": "markdown",
   "metadata": {
    "id": "T_T3w8JPMoyV"
   },
   "source": [
    "2. Extract \"4\" in `my_tup`"
   ]
  },
  {
   "cell_type": "code",
   "execution_count": 5,
   "metadata": {
    "colab": {
     "base_uri": "https://localhost:8080/",
     "height": 35
    },
    "id": "Dyp16GbZMoyY",
    "outputId": "c9210cac-6672-45dc-f795-f1abb9c41fde"
   },
   "outputs": [
    {
     "data": {
      "text/plain": [
       "4"
      ]
     },
     "execution_count": 5,
     "metadata": {},
     "output_type": "execute_result"
    }
   ],
   "source": [
    "my_tup[2]"
   ]
  },
  {
   "cell_type": "markdown",
   "metadata": {
    "id": "f0dtUiB9Moyo"
   },
   "source": [
    "3. Extract 1st three values in `my_tup`"
   ]
  },
  {
   "cell_type": "code",
   "execution_count": 6,
   "metadata": {},
   "outputs": [
    {
     "name": "stdout",
     "output_type": "stream",
     "text": [
      "(5, 8, 4)\n"
     ]
    }
   ],
   "source": [
    "\n",
    "print(my_tup[0:3])"
   ]
  },
  {
   "cell_type": "code",
   "execution_count": null,
   "metadata": {
    "colab": {
     "base_uri": "https://localhost:8080/"
    },
    "id": "4xc9fbMdMoyr",
    "outputId": "cdea231c-cedc-4419-aaf9-4295afe99243"
   },
   "outputs": [
    {
     "data": {
      "text/plain": [
       "(5, 8, 4)"
      ]
     },
     "execution_count": 9,
     "metadata": {
      "tags": []
     },
     "output_type": "execute_result"
    }
   ],
   "source": [
    "# code here\n",
    "my_tup[0:3]"
   ]
  },
  {
   "cell_type": "markdown",
   "metadata": {
    "id": "sKRtn5doMoy4"
   },
   "source": [
    "4. Extract last three values in `my_tup`"
   ]
  },
  {
   "cell_type": "code",
   "execution_count": 8,
   "metadata": {},
   "outputs": [
    {
     "name": "stdout",
     "output_type": "stream",
     "text": [
      "(5, 8, 4)\n"
     ]
    }
   ],
   "source": [
    "print(my_tup[0:3])"
   ]
  },
  {
   "cell_type": "code",
   "execution_count": null,
   "metadata": {
    "colab": {
     "base_uri": "https://localhost:8080/"
    },
    "id": "6Wh3H8ouMoy6",
    "outputId": "9161748e-9fbe-4a6a-89a7-ea7116acb0b7"
   },
   "outputs": [
    {
     "data": {
      "text/plain": [
       "('simpli', 'learn', True)"
      ]
     },
     "execution_count": 12,
     "metadata": {
      "tags": []
     },
     "output_type": "execute_result"
    }
   ],
   "source": [
    "# code here\n",
    "my_tup[-3:6]"
   ]
  },
  {
   "cell_type": "markdown",
   "metadata": {
    "id": "tJh7AEzTMozF"
   },
   "source": [
    "5. Extract alternate values starting with `5`"
   ]
  },
  {
   "cell_type": "code",
   "execution_count": null,
   "metadata": {},
   "outputs": [],
   "source": [
    "print(my_tup[:3])\n",
    "print(my_tup[0:3])"
   ]
  },
  {
   "cell_type": "code",
   "execution_count": null,
   "metadata": {
    "colab": {
     "base_uri": "https://localhost:8080/"
    },
    "id": "3LUhGg7FOsXN",
    "outputId": "5e9cbf0a-ceb9-488b-82ed-c69aedfcbeec"
   },
   "outputs": [
    {
     "data": {
      "text/plain": [
       "(5, 4, 'learn')"
      ]
     },
     "execution_count": 14,
     "metadata": {
      "tags": []
     },
     "output_type": "execute_result"
    }
   ],
   "source": [
    "my_tup[::2]"
   ]
  },
  {
   "cell_type": "code",
   "execution_count": 11,
   "metadata": {
    "id": "cK-v_xiFMozH",
    "outputId": "fcea192a-94af-4df0-aece-d0c34ad2bf2b"
   },
   "outputs": [
    {
     "data": {
      "text/plain": [
       "(5, 4, 'learn')"
      ]
     },
     "execution_count": 11,
     "metadata": {},
     "output_type": "execute_result"
    }
   ],
   "source": [
    "my_tup[::2]"
   ]
  },
  {
   "cell_type": "markdown",
   "metadata": {
    "id": "FH5WIMszMozW"
   },
   "source": [
    "6. Print the data type of 2nd element in `my_tup`"
   ]
  },
  {
   "cell_type": "code",
   "execution_count": 15,
   "metadata": {
    "id": "WbrrOoYYMozY"
   },
   "outputs": [
    {
     "name": "stdout",
     "output_type": "stream",
     "text": [
      "The second  element is 8\n",
      "the data type is <class 'int'>\n"
     ]
    }
   ],
   "source": [
    "# code here\n",
    "a=5\n",
    "b=8\n",
    "c=4\n",
    "d=('simpli')\n",
    "e=(\"learn\")\n",
    "f=(\"true\")\n",
    "print('The second  element is',my_tup[1])\n",
    "print('the data type is',type(my_tup[1]))"
   ]
  },
  {
   "cell_type": "code",
   "execution_count": 18,
   "metadata": {},
   "outputs": [
    {
     "name": "stdout",
     "output_type": "stream",
     "text": [
      "The second element is 8\n",
      "The second element is 4\n"
     ]
    }
   ],
   "source": [
    "print('The second element is',my_tup[1])\n",
    "print('The second element is',my_tup[2])"
   ]
  },
  {
   "cell_type": "code",
   "execution_count": 19,
   "metadata": {},
   "outputs": [
    {
     "name": "stdout",
     "output_type": "stream",
     "text": [
      "The data type is <class 'int'>\n"
     ]
    }
   ],
   "source": [
    "print('The data type is',type(my_tup[1]))"
   ]
  },
  {
   "cell_type": "code",
   "execution_count": 22,
   "metadata": {},
   "outputs": [
    {
     "name": "stdout",
     "output_type": "stream",
     "text": [
      "The data type is <class 'str'>\n"
     ]
    }
   ],
   "source": [
    "print('The data type is',type(my_tup[4]))"
   ]
  },
  {
   "cell_type": "code",
   "execution_count": 23,
   "metadata": {
    "colab": {
     "base_uri": "https://localhost:8080/"
    },
    "id": "S5ZAZQc3RX9k",
    "outputId": "afb229e7-fd96-4b0c-a382-b5c809d9a5b0"
   },
   "outputs": [
    {
     "name": "stdout",
     "output_type": "stream",
     "text": [
      "a\t b\t c\t d\t e\t f\t my_tup\t start\t \n"
     ]
    }
   ],
   "source": [
    "who"
   ]
  },
  {
   "cell_type": "code",
   "execution_count": null,
   "metadata": {
    "colab": {
     "base_uri": "https://localhost:8080/"
    },
    "id": "qJi3K48RRhkC",
    "outputId": "331a2720-f7f3-47e0-ef7c-b4312fe79238"
   },
   "outputs": [
    {
     "data": {
      "text/plain": [
       "int"
      ]
     },
     "execution_count": 17,
     "metadata": {
      "tags": []
     },
     "output_type": "execute_result"
    }
   ],
   "source": [
    "type(b)"
   ]
  },
  {
   "cell_type": "markdown",
   "metadata": {
    "id": "7F-NMSNvMozg"
   },
   "source": [
    "7. Print the data type of last elment in `my_tup`"
   ]
  },
  {
   "cell_type": "code",
   "execution_count": null,
   "metadata": {
    "colab": {
     "base_uri": "https://localhost:8080/"
    },
    "id": "oHcgpuPzMozi",
    "outputId": "aa19786b-151c-4ca6-c97a-ed2255d62923"
   },
   "outputs": [
    {
     "data": {
      "text/plain": [
       "str"
      ]
     },
     "execution_count": 18,
     "metadata": {
      "tags": []
     },
     "output_type": "execute_result"
    }
   ],
   "source": [
    "# code here\n",
    "type(f)"
   ]
  },
  {
   "cell_type": "markdown",
   "metadata": {
    "id": "9PkEPEIbMozq"
   },
   "source": [
    "8. Add 4th and 5th element in `my_tup`"
   ]
  },
  {
   "cell_type": "code",
   "execution_count": 33,
   "metadata": {
    "colab": {
     "base_uri": "https://localhost:8080/",
     "height": 35
    },
    "id": "G7GzCdsOMozr",
    "outputId": "e6565997-0e87-4288-f995-0ee496cba55c"
   },
   "outputs": [
    {
     "name": "stdout",
     "output_type": "stream",
     "text": [
      "simplilearn\n"
     ]
    }
   ],
   "source": [
    "# code here\n",
    "print(my_tup[3]+my_tup[4])"
   ]
  },
  {
   "cell_type": "code",
   "execution_count": 29,
   "metadata": {},
   "outputs": [
    {
     "name": "stdout",
     "output_type": "stream",
     "text": [
      "13\n"
     ]
    }
   ],
   "source": [
    "print(my_tup[0]+my_tup[1])"
   ]
  },
  {
   "cell_type": "markdown",
   "metadata": {
    "id": "0s1sYNM_Moz2"
   },
   "source": [
    "9. Multiply the output of 8 question with 1st element"
   ]
  },
  {
   "cell_type": "code",
   "execution_count": 37,
   "metadata": {
    "colab": {
     "base_uri": "https://localhost:8080/"
    },
    "id": "sCRkos19Moz4",
    "outputId": "5804ff71-7360-4b74-d69b-c52f503fa09d"
   },
   "outputs": [
    {
     "name": "stdout",
     "output_type": "stream",
     "text": [
      "simplilearnsimplilearnsimplilearnsimplilearnsimplilearn\n"
     ]
    }
   ],
   "source": [
    "# code here\n",
    "element = my_tup[3]+my_tup[4]\n",
    "print(element*my_tup[0])"
   ]
  },
  {
   "cell_type": "markdown",
   "metadata": {
    "id": "JvERStdNMo0B"
   },
   "source": [
    "10. Print all the values in `my_tup` in reverse order"
   ]
  },
  {
   "cell_type": "code",
   "execution_count": 38,
   "metadata": {
    "colab": {
     "base_uri": "https://localhost:8080/"
    },
    "id": "OQh4wJx7Mo0D",
    "outputId": "096c2bbc-8dc1-48b0-d558-e5b0b86f058f"
   },
   "outputs": [
    {
     "data": {
      "text/plain": [
       "(True, 'learn', 'simpli', 4, 8, 5)"
      ]
     },
     "execution_count": 38,
     "metadata": {},
     "output_type": "execute_result"
    }
   ],
   "source": [
    "# code here\n",
    "my_tup[::-1]"
   ]
  },
  {
   "cell_type": "markdown",
   "metadata": {
    "id": "ypssqUYvMo0M"
   },
   "source": [
    "---\n",
    "srikanth dakoju"
   ]
  }
 ],
 "metadata": {
  "colab": {
   "name": "Copy of Tuple - Assignment.ipynb",
   "provenance": []
  },
  "kernelspec": {
   "display_name": "Python 3",
   "language": "python",
   "name": "python3"
  },
  "language_info": {
   "codemirror_mode": {
    "name": "ipython",
    "version": 3
   },
   "file_extension": ".py",
   "mimetype": "text/x-python",
   "name": "python",
   "nbconvert_exporter": "python",
   "pygments_lexer": "ipython3",
   "version": "3.8.3"
  }
 },
 "nbformat": 4,
 "nbformat_minor": 1
}
